{
 "cells": [
  {
   "cell_type": "code",
   "execution_count": 1,
   "id": "24b69cfd",
   "metadata": {},
   "outputs": [],
   "source": [
    "from structure import get_structure\n",
    "from pprint import pprint"
   ]
  },
  {
   "cell_type": "code",
   "execution_count": 2,
   "id": "b186cc03",
   "metadata": {},
   "outputs": [
    {
     "name": "stdout",
     "output_type": "stream",
     "text": [
      "{'function': {'object_detection': {'count': <function count at 0x7f2b1a5f91f0>,\n",
      "                                   'head_cropping': <function head_cropping at 0x7f2b1a5f9430>}},\n",
      " 'model': {'object_detection': {'yolo': <class 'cascades.object_detection.yolo.YoloCascade'>},\n",
      "           'tracking': {'sort': <class 'cascades.tracking.sort.SortCascade'>}},\n",
      " 'services': {'text': {'tinkoff': <class 'cascade_services.text.tinkoff.TinkoffSTT'>}}}\n"
     ]
    }
   ],
   "source": [
    "struct = get_structure()\n",
    "pprint(struct)"
   ]
  },
  {
   "cell_type": "code",
   "execution_count": 3,
   "id": "0c533cfd",
   "metadata": {},
   "outputs": [],
   "source": [
    "api_key = \"8MVfedSXtjrIZinLXh4s/d+MJqV00RTUz/vzMoUvIsA=\"\n",
    "secret_key = \"zTgzHQKfj/3luLO8VHEeXqKLacztaECIEXUAf1QGdoQ=\""
   ]
  },
  {
   "cell_type": "code",
   "execution_count": 5,
   "id": "09ff4f68",
   "metadata": {},
   "outputs": [
    {
     "data": {
      "text/plain": [
       "[Build Request, Make Result]"
      ]
     },
     "execution_count": 5,
     "metadata": {},
     "output_type": "execute_result"
    }
   ],
   "source": [
    "tinkoff = struct.services.text.tinkoff(api_key, secret_key)\n",
    "tinkoff"
   ]
  },
  {
   "cell_type": "code",
   "execution_count": 6,
   "id": "61d41588",
   "metadata": {},
   "outputs": [
    {
     "data": {
      "text/plain": [
       "'\\n-  ательная молодая преподавательница вот так что имейте это в виду вот по ссылке вся информация и профессор мантуров из физтеха начинает курс алгебраической топологии для всех желающих мини курс\\n-  ательная молодая преподавательница вот так что имейте это в виду вот по ссылке вся информация и профессор мантуров из физтеха начинает курс алгебраической топологии для всех желающих мини курс\\n-  ательная молодая преподавательница вот так что имейте это в виду вот по ссылке вся информация и профессор мантуров из чистеха начинает курс алгебраической топологии для всех желающих мини курс\\n-- ательная молодая преподавательница вот так что имейте это в виду вот по ссылке вся информация и профессор мантуров из физтеха начинает курс алгебраической топологии для всех желающих мини курс\\n-- ательная молодая преподавательница вот так что имейте это в виду вот по ссылке вся информация и профессор мантуров из физтеха начинает курс алгебраической топологии для всех желающих мини курс\\n-- ательная молодая преподавательница вот так что имейте это в виду вот по ссылке вся информация и профессор мантуров из чистеха начинает курс алгебраической топологии для всех желающих мини курс'"
      ]
     },
     "execution_count": 6,
     "metadata": {},
     "output_type": "execute_result"
    }
   ],
   "source": [
    "tinkoff('Саватеев.mp3')"
   ]
  },
  {
   "cell_type": "code",
   "execution_count": null,
   "id": "0d26cadf",
   "metadata": {},
   "outputs": [],
   "source": []
  },
  {
   "cell_type": "code",
   "execution_count": null,
   "id": "8009635c",
   "metadata": {},
   "outputs": [],
   "source": []
  },
  {
   "cell_type": "code",
   "execution_count": null,
   "id": "fd79d236",
   "metadata": {},
   "outputs": [],
   "source": []
  }
 ],
 "metadata": {
  "kernelspec": {
   "display_name": "Python 3",
   "language": "python",
   "name": "python3"
  },
  "language_info": {
   "codemirror_mode": {
    "name": "ipython",
    "version": 3
   },
   "file_extension": ".py",
   "mimetype": "text/x-python",
   "name": "python",
   "nbconvert_exporter": "python",
   "pygments_lexer": "ipython3",
   "version": "3.9.5"
  }
 },
 "nbformat": 4,
 "nbformat_minor": 5
}
